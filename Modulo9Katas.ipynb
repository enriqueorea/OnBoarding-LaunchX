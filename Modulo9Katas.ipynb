{
 "cells": [
  {
   "cell_type": "markdown",
   "metadata": {},
   "source": [
    "# Ejercicio 1: Trabajar con argumentos en funciones"
   ]
  },
  {
   "cell_type": "code",
   "execution_count": 3,
   "metadata": {},
   "outputs": [
    {
     "name": "stdout",
     "output_type": "stream",
     "text": [
      "\n",
      "    Report: 2022-02-12.\n",
      "    The average fuel is: 78.0%.\n",
      "    The main tank has: 80%.\n",
      "    The side tanks has: 55% and 99%.\n",
      "    \n"
     ]
    }
   ],
   "source": [
    "# Función para leer 3 tanques de combustible y muestre el promedio\n",
    "from datetime import *\n",
    "def averageFuel(fuelValues):\n",
    "    averageFuel = sum(fuelValues) / len(fuelValues)\n",
    "    return averageFuel\n",
    "def generateTanksReport(main_tank, second_tank, third_tank):\n",
    "    return f\"\"\"\n",
    "    Report: {date.today()}.\n",
    "    The average fuel is: {averageFuel([main_tank, second_tank, third_tank])}%.\n",
    "    The main tank has: {main_tank}%.\n",
    "    The side tanks has: {second_tank}% and {third_tank}%.\n",
    "    \"\"\"\n",
    "\n",
    "\n",
    "print(generateTanksReport(80, 55, 99))\n"
   ]
  },
  {
   "cell_type": "markdown",
   "metadata": {},
   "source": [
    "# Ejercicio 2: Trabajo con argumentos de palabra clave"
   ]
  },
  {
   "cell_type": "code",
   "execution_count": 9,
   "metadata": {},
   "outputs": [
    {
     "name": "stdout",
     "output_type": "stream",
     "text": [
      "\n",
      "    trip to: earth c-137.\n",
      "    time to arrive: 112.\n",
      "    the tank: main ----- 234 l fuel left \n",
      "the tank: side ----- 32214 l fuel left \n",
      "\n"
     ]
    }
   ],
   "source": [
    "def tripReport(destiny, *minutes, **fuel_reservoirs):\n",
    "    report = f\"\"\"\n",
    "    trip to: {destiny}.\n",
    "    time to arrive: {sum(minutes)} minutes.\n",
    "    \"\"\"\n",
    "    for key, value in fuel_reservoirs.items():\n",
    "        report += f\"the tank: {key} ----- {value} l fuel left \\n\" \n",
    "    return report\n",
    "\n",
    "print(tripReport(\"earth c-137\",45, 38, 29, main=234, side=32214))"
   ]
  }
 ],
 "metadata": {
  "interpreter": {
   "hash": "07d5240a7168bd604540375fec6a80f483e40edeab806464faa610ca1a5793c0"
  },
  "kernelspec": {
   "display_name": "Python 3.8.3 32-bit",
   "language": "python",
   "name": "python3"
  },
  "language_info": {
   "codemirror_mode": {
    "name": "ipython",
    "version": 3
   },
   "file_extension": ".py",
   "mimetype": "text/x-python",
   "name": "python",
   "nbconvert_exporter": "python",
   "pygments_lexer": "ipython3",
   "version": "3.8.3"
  },
  "orig_nbformat": 4
 },
 "nbformat": 4,
 "nbformat_minor": 2
}
