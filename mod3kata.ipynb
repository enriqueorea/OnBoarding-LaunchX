{
 "cells": [
  {
   "cell_type": "markdown",
   "metadata": {},
   "source": [
    "# asteroide"
   ]
  },
  {
   "cell_type": "code",
   "execution_count": 5,
   "metadata": {},
   "outputs": [
    {
     "name": "stdout",
     "output_type": "stream",
     "text": [
      "la velocidad del asteroide es de 25 km/s Lo puedes ver desde la tierra\n"
     ]
    }
   ],
   "source": [
    "velocidadAsteroide = int(input(\"Introduce la velocidad del Asteroide: \"))\n",
    "dimension = int(input(\"Agrega las dimensiones del asteroide: \"))\n",
    "\n",
    "\n",
    "if velocidadAsteroide > 25 and dimension > 25:\n",
    "    print(f\"la velocidad del asteroide es de {velocidadAsteroide} km/s !Cuidado¡\")\n",
    "elif velocidadAsteroide >= 20:\n",
    "    print(f\"la velocidad del asteroide es de {velocidadAsteroide} km/s Lo puedes ver desde la tierra\")\n",
    "elif dimension < 25:\n",
    "    print(\"todo bien\")\n",
    "\n",
    "else:\n",
    "    print(\"todo bien\")"
   ]
  }
 ],
 "metadata": {
  "interpreter": {
   "hash": "d2152fd7f0bbc62aa1baff8c990435d1e2c7175d001561303988032604c11a48"
  },
  "kernelspec": {
   "display_name": "Python 3.10.2 64-bit",
   "language": "python",
   "name": "python3"
  },
  "language_info": {
   "codemirror_mode": {
    "name": "ipython",
    "version": 3
   },
   "file_extension": ".py",
   "mimetype": "text/x-python",
   "name": "python",
   "nbconvert_exporter": "python",
   "pygments_lexer": "ipython3",
   "version": "3.10.2"
  },
  "orig_nbformat": 4
 },
 "nbformat": 4,
 "nbformat_minor": 2
}
