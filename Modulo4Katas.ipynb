{
 "cells": [
  {
   "cell_type": "markdown",
   "metadata": {},
   "source": [
    "# Ejercicio 1: Transformar cadenas"
   ]
  },
  {
   "cell_type": "code",
   "execution_count": 1,
   "metadata": {},
   "outputs": [
    {
     "name": "stdout",
     "output_type": "stream",
     "text": [
      "On average, the Moon moves 4cm away from the Earth every year\n",
      " The highest daylight temperature of the Moon is 127 Celsius\n"
     ]
    }
   ],
   "source": [
    "text = \"\"\"Interesting facts about the Moon. The Moon is Earth's only satellite. There are several interesting facts about the Moon and how it affects life here on Earth.On average, the Moon moves 4cm away from the Earth every year. This yearly drift is not significant enough to cause immediate effects on Earth. The highest daylight temperature of the Moon is 127 C.\"\"\"\n",
    "\n",
    "matchText = [\n",
    "    'average',\n",
    "    'temperature',\n",
    "    'distance'\n",
    "]\n",
    "\n",
    "newText = text.split('.')\n",
    "for sentence in newText:\n",
    "    for match in matchText:\n",
    "        if match in sentence:\n",
    "            if \"C\" in sentence:\n",
    "                print(sentence.replace('C', 'Celsius'))\n",
    "            else:\n",
    "                print(sentence)\n",
    "            "
   ]
  },
  {
   "cell_type": "markdown",
   "metadata": {},
   "source": [
    "# Ejercicio 2: Formateando Cadenas"
   ]
  },
  {
   "cell_type": "code",
   "execution_count": 2,
   "metadata": {},
   "outputs": [
    {
     "name": "stdout",
     "output_type": "stream",
     "text": [
      "\n",
      "Datos curiosos sobre Ganímedes.\n",
      "-------------------------------------------------------\n",
      "Planet name: Marte .\n",
      "Gravity in Ganímedes: 1.4300000000000002 m/s2\n",
      "\n"
     ]
    }
   ],
   "source": [
    "# Datos con los que vas a trabajar\n",
    "# name = \"Moon\"\n",
    "# gravity = 0.00162 # in kms\n",
    "# planet = \"Earth\"\n",
    "borderBottom = '-' * 55\n",
    "planet = 'Marte '\n",
    "gravity  = 0.00143\n",
    "name = 'Ganímedes'\n",
    "\n",
    "title = f\"\"\"\n",
    "Datos curiosos sobre {name}.\n",
    "{borderBottom}\n",
    "Planet name: {planet}.\n",
    "Gravity in {name}: {gravity * 1000} m/s2\n",
    "\"\"\"\n",
    "\n",
    "print(title)"
   ]
  }
 ],
 "metadata": {
  "interpreter": {
   "hash": "07d5240a7168bd604540375fec6a80f483e40edeab806464faa610ca1a5793c0"
  },
  "kernelspec": {
   "display_name": "Python 3.8.3 32-bit",
   "language": "python",
   "name": "python3"
  },
  "language_info": {
   "codemirror_mode": {
    "name": "ipython",
    "version": 3
   },
   "file_extension": ".py",
   "mimetype": "text/x-python",
   "name": "python",
   "nbconvert_exporter": "python",
   "pygments_lexer": "ipython3",
   "version": "3.8.3"
  },
  "orig_nbformat": 4
 },
 "nbformat": 4,
 "nbformat_minor": 2
}
