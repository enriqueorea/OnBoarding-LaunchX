{
 "cells": [
  {
   "cell_type": "code",
   "execution_count": 5,
   "metadata": {},
   "outputs": [
    {
     "name": "stdout",
     "output_type": "stream",
     "text": [
      "Mercury\n",
      "Venus\n",
      "Earth\n",
      "Mars\n",
      "Jupiter\n",
      "Saturn\n",
      "Neptune\n"
     ]
    }
   ],
   "source": [
    "planets = [\n",
    "    'Mercury',\n",
    "    'Venus', \n",
    "    'Earth', \n",
    "    'Mars', \n",
    "    'Jupiter', \n",
    "    'Saturn', \n",
    "    'Neptune',  \n",
    "]\n",
    "\n",
    "for planet in planets:\n",
    "    print(planet)\n",
    "\n",
    "planets.append('Pluton')\n",
    "print(planets[-1])\n",
    "\n"
   ]
  },
  {
   "cell_type": "code",
   "execution_count": 10,
   "metadata": {},
   "outputs": [
    {
     "name": "stdout",
     "output_type": "stream",
     "text": [
      "Los planetas más cercanos al sol que Jupiter, son: ['Mercury', 'Venus', 'Earth', 'Mars']\n",
      "Los planetas más lejanos al sol que Jupiter, son: ['Saturn', 'Neptune']\n"
     ]
    }
   ],
   "source": [
    "planets = ['Mercury', 'Venus', 'Earth', 'Mars', 'Jupiter', 'Saturn', 'Neptune']\n",
    "\n",
    "userPlanet = input(\"Ingresa el nombre del planeta: \").title()\n",
    "\n",
    "indexPlanet = planets.index(userPlanet)\n",
    "\n",
    "print(f\"Los planetas más cercanos al sol que {userPlanet}, son: {planets[0 : indexPlanet]}\")\n",
    "print(f\"Los planetas más lejanos al sol que {userPlanet}, son: {planets[indexPlanet + 1 :]}\")"
   ]
  }
 ],
 "metadata": {
  "interpreter": {
   "hash": "d2152fd7f0bbc62aa1baff8c990435d1e2c7175d001561303988032604c11a48"
  },
  "kernelspec": {
   "display_name": "Python 3.10.2 64-bit",
   "language": "python",
   "name": "python3"
  },
  "language_info": {
   "codemirror_mode": {
    "name": "ipython",
    "version": 3
   },
   "file_extension": ".py",
   "mimetype": "text/x-python",
   "name": "python",
   "nbconvert_exporter": "python",
   "pygments_lexer": "ipython3",
   "version": "3.10.2"
  },
  "orig_nbformat": 4
 },
 "nbformat": 4,
 "nbformat_minor": 2
}
