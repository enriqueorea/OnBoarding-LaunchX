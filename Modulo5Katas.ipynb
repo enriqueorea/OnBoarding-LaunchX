{
 "cells": [
  {
   "cell_type": "code",
   "execution_count": 8,
   "metadata": {},
   "outputs": [
    {
     "name": "stdout",
     "output_type": "stream",
     "text": [
      "la distancia es 628949330 km y 390577533 miles\n"
     ]
    }
   ],
   "source": [
    "planet1 = 149597870\n",
    "planet2 = 778547200\n",
    "\n",
    "distance = planet2 - planet1\n",
    "\n",
    "print(f\"la distancia es {distance} km y {int(distance * 0.621)} millas\")"
   ]
  },
  {
   "cell_type": "code",
   "execution_count": null,
   "metadata": {},
   "outputs": [],
   "source": [
    "distance1: int(input(\"Ingresa la distancia al sol del primer planeta\"))\n",
    "distance2: int(input(\"Ingresa la distancia al sol del segundo planeta\"))\n",
    "\n",
    "distanceDiff = distance1 - distance2\n",
    "\n",
    "print(f\"la distancia entre planetas es: {abs(distanceDiff * 0.621)}\")"
   ]
  }
 ],
 "metadata": {
  "interpreter": {
   "hash": "d2152fd7f0bbc62aa1baff8c990435d1e2c7175d001561303988032604c11a48"
  },
  "kernelspec": {
   "display_name": "Python 3.10.2 64-bit",
   "language": "python",
   "name": "python3"
  },
  "language_info": {
   "codemirror_mode": {
    "name": "ipython",
    "version": 3
   },
   "file_extension": ".py",
   "mimetype": "text/x-python",
   "name": "python",
   "nbconvert_exporter": "python",
   "pygments_lexer": "ipython3",
   "version": "3.10.2"
  },
  "orig_nbformat": 4
 },
 "nbformat": 4,
 "nbformat_minor": 2
}
