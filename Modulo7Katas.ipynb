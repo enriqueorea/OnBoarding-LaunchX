{
 "cells": [
  {
   "cell_type": "markdown",
   "metadata": {},
   "source": [
    "# Ejercicio 1: Creación de un bucle \"while\""
   ]
  },
  {
   "cell_type": "code",
   "execution_count": 15,
   "metadata": {},
   "outputs": [],
   "source": [
    "#varibales\n",
    "planets = []\n",
    "new_planet = ''\n"
   ]
  },
  {
   "cell_type": "code",
   "execution_count": 16,
   "metadata": {},
   "outputs": [
    {
     "name": "stdout",
     "output_type": "stream",
     "text": [
      "El nombre del planeta esta vacio\n",
      "Recuarda escribir done para salir del programa.\n",
      "Recuarda escribir done para salir del programa.\n",
      "Recuarda escribir done para salir del programa.\n",
      "Recuarda escribir done para salir del programa.\n"
     ]
    }
   ],
   "source": [
    "#ciclo while\n",
    "\n",
    "while new_planet != \"done\":\n",
    "    if new_planet:\n",
    "        planets.append(new_planet)\n",
    "    else:\n",
    "        print(\"El nombre del planeta esta vacio\")\n",
    "    print(\"Recuarda escribir done para salir del programa.\")\n",
    "    new_planet = input( \"Ingresa el nombre de planeta que deseas guardar: \" ).lower()\n",
    "\n",
    "#print(planets)"
   ]
  },
  {
   "cell_type": "markdown",
   "metadata": {},
   "source": [
    "# Ejercicio 2: ciclo for"
   ]
  },
  {
   "cell_type": "code",
   "execution_count": 17,
   "metadata": {},
   "outputs": [
    {
     "name": "stdout",
     "output_type": "stream",
     "text": [
      "Existen 3 planetas en la lista\n",
      "Saturno\n",
      "Jupiter\n",
      "Urano\n"
     ]
    }
   ],
   "source": [
    "print(f\"Existen {planets.__len__()} planetas en la lista\")\n",
    "for planet in planets:\n",
    "    print(planet.title())"
   ]
  }
 ],
 "metadata": {
  "interpreter": {
   "hash": "d2152fd7f0bbc62aa1baff8c990435d1e2c7175d001561303988032604c11a48"
  },
  "kernelspec": {
   "display_name": "Python 3.10.2 64-bit",
   "language": "python",
   "name": "python3"
  },
  "language_info": {
   "codemirror_mode": {
    "name": "ipython",
    "version": 3
   },
   "file_extension": ".py",
   "mimetype": "text/x-python",
   "name": "python",
   "nbconvert_exporter": "python",
   "pygments_lexer": "ipython3",
   "version": "3.10.2"
  },
  "orig_nbformat": 4
 },
 "nbformat": 4,
 "nbformat_minor": 2
}
